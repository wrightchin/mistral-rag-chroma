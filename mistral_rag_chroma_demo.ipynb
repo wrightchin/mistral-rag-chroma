{
  "nbformat": 4,
  "nbformat_minor": 0,
  "metadata": {
    "colab": {
      "provenance": []
    },
    "kernelspec": {
      "name": "python3",
      "display_name": "Python 3"
    },
    "language_info": {
      "name": "python"
    }
  },
  "cells": [
    {
      "cell_type": "code",
      "source": [
        "! pip install mistralai\n",
        "! pip install langchain\n",
        "! pip install langchain-community langchain-core\n",
        "! pip install -U langchain-mistralai\n",
        "! pip install chromadb"
      ],
      "metadata": {
        "colab": {
          "base_uri": "https://localhost:8080/"
        },
        "id": "R7XaEdYRp7fm",
        "outputId": "b1195540-8c70-443c-a7c4-0b0f28320fcf"
      },
      "execution_count": null,
      "outputs": [
        {
          "output_type": "stream",
          "name": "stdout",
          "text": [
            "Collecting mistralai\n",
            "  Downloading mistralai-0.4.0-py3-none-any.whl (19 kB)\n",
            "Collecting httpx<0.26,>=0.25 (from mistralai)\n",
            "  Downloading httpx-0.25.2-py3-none-any.whl (74 kB)\n",
            "\u001b[2K     \u001b[90m━━━━━━━━━━━━━━━━━━━━━━━━━━━━━━━━━━━━━━━━\u001b[0m \u001b[32m75.0/75.0 kB\u001b[0m \u001b[31m1.3 MB/s\u001b[0m eta \u001b[36m0:00:00\u001b[0m\n",
            "\u001b[?25hCollecting orjson<3.11,>=3.9.10 (from mistralai)\n",
            "  Downloading orjson-3.10.4-cp310-cp310-manylinux_2_17_x86_64.manylinux2014_x86_64.whl (142 kB)\n",
            "\u001b[2K     \u001b[90m━━━━━━━━━━━━━━━━━━━━━━━━━━━━━━━━━━━━━━━━\u001b[0m \u001b[32m142.7/142.7 kB\u001b[0m \u001b[31m3.0 MB/s\u001b[0m eta \u001b[36m0:00:00\u001b[0m\n",
            "\u001b[?25hRequirement already satisfied: pydantic<3.0.0,>=2.5.2 in /usr/local/lib/python3.10/dist-packages (from mistralai) (2.7.3)\n",
            "Requirement already satisfied: anyio in /usr/local/lib/python3.10/dist-packages (from httpx<0.26,>=0.25->mistralai) (3.7.1)\n",
            "Requirement already satisfied: certifi in /usr/local/lib/python3.10/dist-packages (from httpx<0.26,>=0.25->mistralai) (2024.6.2)\n",
            "Collecting httpcore==1.* (from httpx<0.26,>=0.25->mistralai)\n",
            "  Downloading httpcore-1.0.5-py3-none-any.whl (77 kB)\n",
            "\u001b[2K     \u001b[90m━━━━━━━━━━━━━━━━━━━━━━━━━━━━━━━━━━━━━━━━\u001b[0m \u001b[32m77.9/77.9 kB\u001b[0m \u001b[31m4.4 MB/s\u001b[0m eta \u001b[36m0:00:00\u001b[0m\n",
            "\u001b[?25hRequirement already satisfied: idna in /usr/local/lib/python3.10/dist-packages (from httpx<0.26,>=0.25->mistralai) (3.7)\n",
            "Requirement already satisfied: sniffio in /usr/local/lib/python3.10/dist-packages (from httpx<0.26,>=0.25->mistralai) (1.3.1)\n",
            "Collecting h11<0.15,>=0.13 (from httpcore==1.*->httpx<0.26,>=0.25->mistralai)\n",
            "  Downloading h11-0.14.0-py3-none-any.whl (58 kB)\n",
            "\u001b[2K     \u001b[90m━━━━━━━━━━━━━━━━━━━━━━━━━━━━━━━━━━━━━━━━\u001b[0m \u001b[32m58.3/58.3 kB\u001b[0m \u001b[31m4.8 MB/s\u001b[0m eta \u001b[36m0:00:00\u001b[0m\n",
            "\u001b[?25hRequirement already satisfied: annotated-types>=0.4.0 in /usr/local/lib/python3.10/dist-packages (from pydantic<3.0.0,>=2.5.2->mistralai) (0.7.0)\n",
            "Requirement already satisfied: pydantic-core==2.18.4 in /usr/local/lib/python3.10/dist-packages (from pydantic<3.0.0,>=2.5.2->mistralai) (2.18.4)\n",
            "Requirement already satisfied: typing-extensions>=4.6.1 in /usr/local/lib/python3.10/dist-packages (from pydantic<3.0.0,>=2.5.2->mistralai) (4.12.2)\n",
            "Requirement already satisfied: exceptiongroup in /usr/local/lib/python3.10/dist-packages (from anyio->httpx<0.26,>=0.25->mistralai) (1.2.1)\n",
            "Installing collected packages: orjson, h11, httpcore, httpx, mistralai\n",
            "Successfully installed h11-0.14.0 httpcore-1.0.5 httpx-0.25.2 mistralai-0.4.0 orjson-3.10.4\n",
            "Collecting langchain\n",
            "  Downloading langchain-0.2.3-py3-none-any.whl (974 kB)\n",
            "\u001b[2K     \u001b[90m━━━━━━━━━━━━━━━━━━━━━━━━━━━━━━━━━━━━━━━━\u001b[0m \u001b[32m974.0/974.0 kB\u001b[0m \u001b[31m5.3 MB/s\u001b[0m eta \u001b[36m0:00:00\u001b[0m\n",
            "\u001b[?25hRequirement already satisfied: PyYAML>=5.3 in /usr/local/lib/python3.10/dist-packages (from langchain) (6.0.1)\n",
            "Requirement already satisfied: SQLAlchemy<3,>=1.4 in /usr/local/lib/python3.10/dist-packages (from langchain) (2.0.30)\n",
            "Requirement already satisfied: aiohttp<4.0.0,>=3.8.3 in /usr/local/lib/python3.10/dist-packages (from langchain) (3.9.5)\n",
            "Requirement already satisfied: async-timeout<5.0.0,>=4.0.0 in /usr/local/lib/python3.10/dist-packages (from langchain) (4.0.3)\n",
            "Collecting langchain-core<0.3.0,>=0.2.0 (from langchain)\n",
            "  Downloading langchain_core-0.2.5-py3-none-any.whl (314 kB)\n",
            "\u001b[2K     \u001b[90m━━━━━━━━━━━━━━━━━━━━━━━━━━━━━━━━━━━━━━━━\u001b[0m \u001b[32m314.7/314.7 kB\u001b[0m \u001b[31m31.6 MB/s\u001b[0m eta \u001b[36m0:00:00\u001b[0m\n",
            "\u001b[?25hCollecting langchain-text-splitters<0.3.0,>=0.2.0 (from langchain)\n",
            "  Downloading langchain_text_splitters-0.2.1-py3-none-any.whl (23 kB)\n",
            "Collecting langsmith<0.2.0,>=0.1.17 (from langchain)\n",
            "  Downloading langsmith-0.1.77-py3-none-any.whl (125 kB)\n",
            "\u001b[2K     \u001b[90m━━━━━━━━━━━━━━━━━━━━━━━━━━━━━━━━━━━━━━━━\u001b[0m \u001b[32m125.2/125.2 kB\u001b[0m \u001b[31m16.5 MB/s\u001b[0m eta \u001b[36m0:00:00\u001b[0m\n",
            "\u001b[?25hRequirement already satisfied: numpy<2,>=1 in /usr/local/lib/python3.10/dist-packages (from langchain) (1.25.2)\n",
            "Requirement already satisfied: pydantic<3,>=1 in /usr/local/lib/python3.10/dist-packages (from langchain) (2.7.3)\n",
            "Requirement already satisfied: requests<3,>=2 in /usr/local/lib/python3.10/dist-packages (from langchain) (2.31.0)\n",
            "Requirement already satisfied: tenacity<9.0.0,>=8.1.0 in /usr/local/lib/python3.10/dist-packages (from langchain) (8.3.0)\n",
            "Requirement already satisfied: aiosignal>=1.1.2 in /usr/local/lib/python3.10/dist-packages (from aiohttp<4.0.0,>=3.8.3->langchain) (1.3.1)\n",
            "Requirement already satisfied: attrs>=17.3.0 in /usr/local/lib/python3.10/dist-packages (from aiohttp<4.0.0,>=3.8.3->langchain) (23.2.0)\n",
            "Requirement already satisfied: frozenlist>=1.1.1 in /usr/local/lib/python3.10/dist-packages (from aiohttp<4.0.0,>=3.8.3->langchain) (1.4.1)\n",
            "Requirement already satisfied: multidict<7.0,>=4.5 in /usr/local/lib/python3.10/dist-packages (from aiohttp<4.0.0,>=3.8.3->langchain) (6.0.5)\n",
            "Requirement already satisfied: yarl<2.0,>=1.0 in /usr/local/lib/python3.10/dist-packages (from aiohttp<4.0.0,>=3.8.3->langchain) (1.9.4)\n",
            "Collecting jsonpatch<2.0,>=1.33 (from langchain-core<0.3.0,>=0.2.0->langchain)\n",
            "  Downloading jsonpatch-1.33-py2.py3-none-any.whl (12 kB)\n",
            "Collecting packaging<24.0,>=23.2 (from langchain-core<0.3.0,>=0.2.0->langchain)\n",
            "  Downloading packaging-23.2-py3-none-any.whl (53 kB)\n",
            "\u001b[2K     \u001b[90m━━━━━━━━━━━━━━━━━━━━━━━━━━━━━━━━━━━━━━━━\u001b[0m \u001b[32m53.0/53.0 kB\u001b[0m \u001b[31m6.7 MB/s\u001b[0m eta \u001b[36m0:00:00\u001b[0m\n",
            "\u001b[?25hRequirement already satisfied: orjson<4.0.0,>=3.9.14 in /usr/local/lib/python3.10/dist-packages (from langsmith<0.2.0,>=0.1.17->langchain) (3.10.4)\n",
            "Requirement already satisfied: annotated-types>=0.4.0 in /usr/local/lib/python3.10/dist-packages (from pydantic<3,>=1->langchain) (0.7.0)\n",
            "Requirement already satisfied: pydantic-core==2.18.4 in /usr/local/lib/python3.10/dist-packages (from pydantic<3,>=1->langchain) (2.18.4)\n",
            "Requirement already satisfied: typing-extensions>=4.6.1 in /usr/local/lib/python3.10/dist-packages (from pydantic<3,>=1->langchain) (4.12.2)\n",
            "Requirement already satisfied: charset-normalizer<4,>=2 in /usr/local/lib/python3.10/dist-packages (from requests<3,>=2->langchain) (3.3.2)\n",
            "Requirement already satisfied: idna<4,>=2.5 in /usr/local/lib/python3.10/dist-packages (from requests<3,>=2->langchain) (3.7)\n",
            "Requirement already satisfied: urllib3<3,>=1.21.1 in /usr/local/lib/python3.10/dist-packages (from requests<3,>=2->langchain) (2.0.7)\n",
            "Requirement already satisfied: certifi>=2017.4.17 in /usr/local/lib/python3.10/dist-packages (from requests<3,>=2->langchain) (2024.6.2)\n",
            "Requirement already satisfied: greenlet!=0.4.17 in /usr/local/lib/python3.10/dist-packages (from SQLAlchemy<3,>=1.4->langchain) (3.0.3)\n",
            "Collecting jsonpointer>=1.9 (from jsonpatch<2.0,>=1.33->langchain-core<0.3.0,>=0.2.0->langchain)\n",
            "  Downloading jsonpointer-3.0.0-py2.py3-none-any.whl (7.6 kB)\n",
            "Installing collected packages: packaging, jsonpointer, jsonpatch, langsmith, langchain-core, langchain-text-splitters, langchain\n",
            "  Attempting uninstall: packaging\n",
            "    Found existing installation: packaging 24.1\n",
            "    Uninstalling packaging-24.1:\n",
            "      Successfully uninstalled packaging-24.1\n",
            "Successfully installed jsonpatch-1.33 jsonpointer-3.0.0 langchain-0.2.3 langchain-core-0.2.5 langchain-text-splitters-0.2.1 langsmith-0.1.77 packaging-23.2\n",
            "Collecting langchain-community\n",
            "  Downloading langchain_community-0.2.4-py3-none-any.whl (2.2 MB)\n",
            "\u001b[2K     \u001b[90m━━━━━━━━━━━━━━━━━━━━━━━━━━━━━━━━━━━━━━━━\u001b[0m \u001b[32m2.2/2.2 MB\u001b[0m \u001b[31m8.1 MB/s\u001b[0m eta \u001b[36m0:00:00\u001b[0m\n",
            "\u001b[?25hRequirement already satisfied: langchain-core in /usr/local/lib/python3.10/dist-packages (0.2.5)\n",
            "Requirement already satisfied: PyYAML>=5.3 in /usr/local/lib/python3.10/dist-packages (from langchain-community) (6.0.1)\n",
            "Requirement already satisfied: SQLAlchemy<3,>=1.4 in /usr/local/lib/python3.10/dist-packages (from langchain-community) (2.0.30)\n",
            "Requirement already satisfied: aiohttp<4.0.0,>=3.8.3 in /usr/local/lib/python3.10/dist-packages (from langchain-community) (3.9.5)\n",
            "Collecting dataclasses-json<0.7,>=0.5.7 (from langchain-community)\n",
            "  Downloading dataclasses_json-0.6.7-py3-none-any.whl (28 kB)\n",
            "Requirement already satisfied: langchain<0.3.0,>=0.2.0 in /usr/local/lib/python3.10/dist-packages (from langchain-community) (0.2.3)\n",
            "Requirement already satisfied: langsmith<0.2.0,>=0.1.0 in /usr/local/lib/python3.10/dist-packages (from langchain-community) (0.1.77)\n",
            "Requirement already satisfied: numpy<2,>=1 in /usr/local/lib/python3.10/dist-packages (from langchain-community) (1.25.2)\n",
            "Requirement already satisfied: requests<3,>=2 in /usr/local/lib/python3.10/dist-packages (from langchain-community) (2.31.0)\n",
            "Requirement already satisfied: tenacity<9.0.0,>=8.1.0 in /usr/local/lib/python3.10/dist-packages (from langchain-community) (8.3.0)\n",
            "Requirement already satisfied: jsonpatch<2.0,>=1.33 in /usr/local/lib/python3.10/dist-packages (from langchain-core) (1.33)\n",
            "Requirement already satisfied: packaging<24.0,>=23.2 in /usr/local/lib/python3.10/dist-packages (from langchain-core) (23.2)\n",
            "Requirement already satisfied: pydantic<3,>=1 in /usr/local/lib/python3.10/dist-packages (from langchain-core) (2.7.3)\n",
            "Requirement already satisfied: aiosignal>=1.1.2 in /usr/local/lib/python3.10/dist-packages (from aiohttp<4.0.0,>=3.8.3->langchain-community) (1.3.1)\n",
            "Requirement already satisfied: attrs>=17.3.0 in /usr/local/lib/python3.10/dist-packages (from aiohttp<4.0.0,>=3.8.3->langchain-community) (23.2.0)\n",
            "Requirement already satisfied: frozenlist>=1.1.1 in /usr/local/lib/python3.10/dist-packages (from aiohttp<4.0.0,>=3.8.3->langchain-community) (1.4.1)\n",
            "Requirement already satisfied: multidict<7.0,>=4.5 in /usr/local/lib/python3.10/dist-packages (from aiohttp<4.0.0,>=3.8.3->langchain-community) (6.0.5)\n",
            "Requirement already satisfied: yarl<2.0,>=1.0 in /usr/local/lib/python3.10/dist-packages (from aiohttp<4.0.0,>=3.8.3->langchain-community) (1.9.4)\n",
            "Requirement already satisfied: async-timeout<5.0,>=4.0 in /usr/local/lib/python3.10/dist-packages (from aiohttp<4.0.0,>=3.8.3->langchain-community) (4.0.3)\n",
            "Collecting marshmallow<4.0.0,>=3.18.0 (from dataclasses-json<0.7,>=0.5.7->langchain-community)\n",
            "  Downloading marshmallow-3.21.3-py3-none-any.whl (49 kB)\n",
            "\u001b[2K     \u001b[90m━━━━━━━━━━━━━━━━━━━━━━━━━━━━━━━━━━━━━━━━\u001b[0m \u001b[32m49.2/49.2 kB\u001b[0m \u001b[31m6.6 MB/s\u001b[0m eta \u001b[36m0:00:00\u001b[0m\n",
            "\u001b[?25hCollecting typing-inspect<1,>=0.4.0 (from dataclasses-json<0.7,>=0.5.7->langchain-community)\n",
            "  Downloading typing_inspect-0.9.0-py3-none-any.whl (8.8 kB)\n",
            "Requirement already satisfied: jsonpointer>=1.9 in /usr/local/lib/python3.10/dist-packages (from jsonpatch<2.0,>=1.33->langchain-core) (3.0.0)\n",
            "Requirement already satisfied: langchain-text-splitters<0.3.0,>=0.2.0 in /usr/local/lib/python3.10/dist-packages (from langchain<0.3.0,>=0.2.0->langchain-community) (0.2.1)\n",
            "Requirement already satisfied: orjson<4.0.0,>=3.9.14 in /usr/local/lib/python3.10/dist-packages (from langsmith<0.2.0,>=0.1.0->langchain-community) (3.10.4)\n",
            "Requirement already satisfied: annotated-types>=0.4.0 in /usr/local/lib/python3.10/dist-packages (from pydantic<3,>=1->langchain-core) (0.7.0)\n",
            "Requirement already satisfied: pydantic-core==2.18.4 in /usr/local/lib/python3.10/dist-packages (from pydantic<3,>=1->langchain-core) (2.18.4)\n",
            "Requirement already satisfied: typing-extensions>=4.6.1 in /usr/local/lib/python3.10/dist-packages (from pydantic<3,>=1->langchain-core) (4.12.2)\n",
            "Requirement already satisfied: charset-normalizer<4,>=2 in /usr/local/lib/python3.10/dist-packages (from requests<3,>=2->langchain-community) (3.3.2)\n",
            "Requirement already satisfied: idna<4,>=2.5 in /usr/local/lib/python3.10/dist-packages (from requests<3,>=2->langchain-community) (3.7)\n",
            "Requirement already satisfied: urllib3<3,>=1.21.1 in /usr/local/lib/python3.10/dist-packages (from requests<3,>=2->langchain-community) (2.0.7)\n",
            "Requirement already satisfied: certifi>=2017.4.17 in /usr/local/lib/python3.10/dist-packages (from requests<3,>=2->langchain-community) (2024.6.2)\n",
            "Requirement already satisfied: greenlet!=0.4.17 in /usr/local/lib/python3.10/dist-packages (from SQLAlchemy<3,>=1.4->langchain-community) (3.0.3)\n",
            "Collecting mypy-extensions>=0.3.0 (from typing-inspect<1,>=0.4.0->dataclasses-json<0.7,>=0.5.7->langchain-community)\n",
            "  Downloading mypy_extensions-1.0.0-py3-none-any.whl (4.7 kB)\n",
            "Installing collected packages: mypy-extensions, marshmallow, typing-inspect, dataclasses-json, langchain-community\n",
            "Successfully installed dataclasses-json-0.6.7 langchain-community-0.2.4 marshmallow-3.21.3 mypy-extensions-1.0.0 typing-inspect-0.9.0\n",
            "Collecting langchain-mistralai\n",
            "  Downloading langchain_mistralai-0.1.8-py3-none-any.whl (12 kB)\n",
            "Requirement already satisfied: httpx<1,>=0.25.2 in /usr/local/lib/python3.10/dist-packages (from langchain-mistralai) (0.25.2)\n",
            "Collecting httpx-sse<1,>=0.3.1 (from langchain-mistralai)\n",
            "  Downloading httpx_sse-0.4.0-py3-none-any.whl (7.8 kB)\n",
            "Requirement already satisfied: langchain-core<0.3,>=0.2.0 in /usr/local/lib/python3.10/dist-packages (from langchain-mistralai) (0.2.5)\n",
            "Requirement already satisfied: tokenizers<1,>=0.15.1 in /usr/local/lib/python3.10/dist-packages (from langchain-mistralai) (0.19.1)\n",
            "Requirement already satisfied: anyio in /usr/local/lib/python3.10/dist-packages (from httpx<1,>=0.25.2->langchain-mistralai) (3.7.1)\n",
            "Requirement already satisfied: certifi in /usr/local/lib/python3.10/dist-packages (from httpx<1,>=0.25.2->langchain-mistralai) (2024.6.2)\n",
            "Requirement already satisfied: httpcore==1.* in /usr/local/lib/python3.10/dist-packages (from httpx<1,>=0.25.2->langchain-mistralai) (1.0.5)\n",
            "Requirement already satisfied: idna in /usr/local/lib/python3.10/dist-packages (from httpx<1,>=0.25.2->langchain-mistralai) (3.7)\n",
            "Requirement already satisfied: sniffio in /usr/local/lib/python3.10/dist-packages (from httpx<1,>=0.25.2->langchain-mistralai) (1.3.1)\n",
            "Requirement already satisfied: h11<0.15,>=0.13 in /usr/local/lib/python3.10/dist-packages (from httpcore==1.*->httpx<1,>=0.25.2->langchain-mistralai) (0.14.0)\n",
            "Requirement already satisfied: PyYAML>=5.3 in /usr/local/lib/python3.10/dist-packages (from langchain-core<0.3,>=0.2.0->langchain-mistralai) (6.0.1)\n",
            "Requirement already satisfied: jsonpatch<2.0,>=1.33 in /usr/local/lib/python3.10/dist-packages (from langchain-core<0.3,>=0.2.0->langchain-mistralai) (1.33)\n",
            "Requirement already satisfied: langsmith<0.2.0,>=0.1.66 in /usr/local/lib/python3.10/dist-packages (from langchain-core<0.3,>=0.2.0->langchain-mistralai) (0.1.77)\n",
            "Requirement already satisfied: packaging<24.0,>=23.2 in /usr/local/lib/python3.10/dist-packages (from langchain-core<0.3,>=0.2.0->langchain-mistralai) (23.2)\n",
            "Requirement already satisfied: pydantic<3,>=1 in /usr/local/lib/python3.10/dist-packages (from langchain-core<0.3,>=0.2.0->langchain-mistralai) (2.7.3)\n",
            "Requirement already satisfied: tenacity<9.0.0,>=8.1.0 in /usr/local/lib/python3.10/dist-packages (from langchain-core<0.3,>=0.2.0->langchain-mistralai) (8.3.0)\n",
            "Requirement already satisfied: huggingface-hub<1.0,>=0.16.4 in /usr/local/lib/python3.10/dist-packages (from tokenizers<1,>=0.15.1->langchain-mistralai) (0.23.3)\n",
            "Requirement already satisfied: filelock in /usr/local/lib/python3.10/dist-packages (from huggingface-hub<1.0,>=0.16.4->tokenizers<1,>=0.15.1->langchain-mistralai) (3.14.0)\n",
            "Requirement already satisfied: fsspec>=2023.5.0 in /usr/local/lib/python3.10/dist-packages (from huggingface-hub<1.0,>=0.16.4->tokenizers<1,>=0.15.1->langchain-mistralai) (2023.6.0)\n",
            "Requirement already satisfied: requests in /usr/local/lib/python3.10/dist-packages (from huggingface-hub<1.0,>=0.16.4->tokenizers<1,>=0.15.1->langchain-mistralai) (2.31.0)\n",
            "Requirement already satisfied: tqdm>=4.42.1 in /usr/local/lib/python3.10/dist-packages (from huggingface-hub<1.0,>=0.16.4->tokenizers<1,>=0.15.1->langchain-mistralai) (4.66.4)\n",
            "Requirement already satisfied: typing-extensions>=3.7.4.3 in /usr/local/lib/python3.10/dist-packages (from huggingface-hub<1.0,>=0.16.4->tokenizers<1,>=0.15.1->langchain-mistralai) (4.12.2)\n",
            "Requirement already satisfied: jsonpointer>=1.9 in /usr/local/lib/python3.10/dist-packages (from jsonpatch<2.0,>=1.33->langchain-core<0.3,>=0.2.0->langchain-mistralai) (3.0.0)\n",
            "Requirement already satisfied: orjson<4.0.0,>=3.9.14 in /usr/local/lib/python3.10/dist-packages (from langsmith<0.2.0,>=0.1.66->langchain-core<0.3,>=0.2.0->langchain-mistralai) (3.10.4)\n",
            "Requirement already satisfied: annotated-types>=0.4.0 in /usr/local/lib/python3.10/dist-packages (from pydantic<3,>=1->langchain-core<0.3,>=0.2.0->langchain-mistralai) (0.7.0)\n",
            "Requirement already satisfied: pydantic-core==2.18.4 in /usr/local/lib/python3.10/dist-packages (from pydantic<3,>=1->langchain-core<0.3,>=0.2.0->langchain-mistralai) (2.18.4)\n",
            "Requirement already satisfied: exceptiongroup in /usr/local/lib/python3.10/dist-packages (from anyio->httpx<1,>=0.25.2->langchain-mistralai) (1.2.1)\n",
            "Requirement already satisfied: charset-normalizer<4,>=2 in /usr/local/lib/python3.10/dist-packages (from requests->huggingface-hub<1.0,>=0.16.4->tokenizers<1,>=0.15.1->langchain-mistralai) (3.3.2)\n",
            "Requirement already satisfied: urllib3<3,>=1.21.1 in /usr/local/lib/python3.10/dist-packages (from requests->huggingface-hub<1.0,>=0.16.4->tokenizers<1,>=0.15.1->langchain-mistralai) (2.0.7)\n",
            "Installing collected packages: httpx-sse, langchain-mistralai\n",
            "Successfully installed httpx-sse-0.4.0 langchain-mistralai-0.1.8\n"
          ]
        }
      ]
    },
    {
      "cell_type": "code",
      "source": [
        "from langchain_community.document_loaders import TextLoader\n",
        "from langchain_mistralai.chat_models import ChatMistralAI\n",
        "from langchain_mistralai.embeddings import MistralAIEmbeddings\n",
        "from langchain_community.vectorstores import FAISS\n",
        "from langchain.text_splitter import RecursiveCharacterTextSplitter\n",
        "from langchain.chains.combine_documents import create_stuff_documents_chain\n",
        "from langchain_core.prompts import ChatPromptTemplate\n",
        "from langchain.chains import create_retrieval_chain\n",
        "from langchain_community.vectorstores.chroma import Chroma"
      ],
      "metadata": {
        "id": "R6SRzuTUcxYp"
      },
      "execution_count": null,
      "outputs": []
    },
    {
      "cell_type": "code",
      "source": [
        "# add google drive\n",
        "from google.colab import drive\n",
        "drive.mount('/content/drive')"
      ],
      "metadata": {
        "colab": {
          "base_uri": "https://localhost:8080/"
        },
        "id": "t_HpDtvfeNS9",
        "outputId": "93865390-765d-41ae-e615-bef0190fc923"
      },
      "execution_count": null,
      "outputs": [
        {
          "output_type": "stream",
          "name": "stdout",
          "text": [
            "Mounted at /content/drive\n"
          ]
        }
      ]
    },
    {
      "cell_type": "code",
      "source": [
        "%cd /content/drive/My Drive/"
      ],
      "metadata": {
        "colab": {
          "base_uri": "https://localhost:8080/"
        },
        "id": "HgfLEbnOeP0a",
        "outputId": "b8361a25-2000-4611-b5a4-990171310f18"
      },
      "execution_count": null,
      "outputs": [
        {
          "output_type": "stream",
          "name": "stdout",
          "text": [
            "/content/drive/My Drive\n"
          ]
        }
      ]
    },
    {
      "cell_type": "code",
      "source": [
        "# Load data\n",
        "loader = TextLoader(\"mistral/nvidia_ocp_docs.txt\")\n",
        "docs = loader.load()"
      ],
      "metadata": {
        "id": "VV41s-r7eTf2"
      },
      "execution_count": null,
      "outputs": []
    },
    {
      "cell_type": "code",
      "source": [
        "# Split text into chunks\n",
        "text_splitter = RecursiveCharacterTextSplitter()\n",
        "documents = text_splitter.split_documents(docs)"
      ],
      "metadata": {
        "id": "cFyv99ADf1kd"
      },
      "execution_count": null,
      "outputs": []
    },
    {
      "cell_type": "code",
      "source": [
        "documents"
      ],
      "metadata": {
        "colab": {
          "base_uri": "https://localhost:8080/"
        },
        "id": "zrNhYVqUf4YN",
        "outputId": "6dfa0bd4-a1ac-422f-d54d-1835eceb85ca"
      },
      "execution_count": null,
      "outputs": [
        {
          "output_type": "execute_result",
          "data": {
            "text/plain": [
              "[Document(page_content=\"[Document(page_content='NVIDIA GPU  architecture overview\\\\nNVIDIA GPU prerequisites\\\\nNVIDIA GPU enablement\\\\nGPUs and bare metal\\\\nGPUs and virtualization\\\\nGPUs and vSphere\\\\nGPUs and Red Hat KVM\\\\nGPUs and CSPs\\\\nGPUs and Red Hat Device Edge\\\\nGPU sharing methods\\\\nCUDA streams\\\\nTime-slicing\\\\nCUDA Multi-Process Service\\\\nMulti-instance GPU\\\\nVirtualization with vGPU\\\\nNVIDIA GPU features for OpenShift Container Platform\\\\nNVIDIA supports the use of graphics processing unit (GPU) resources on OpenShift', metadata={'source': 'mistral/nvidia_ocp_414.pdf', 'page': 0}),\\n Document(page_content='Container Platform. OpenShift Container Platform is a security-focused and\\\\nhardened Kubernetes platform developed and supported by Red Hat for deploying\\\\nand managing Kubernetes clusters at scale. OpenShift Container Platform includes\\\\nenhancements to Kubernetes so that users can easily configure and use NVIDIA\\\\nGPU resources to accelerate workloads.\\\\nThe NVIDIA GPU Operator leverages the Operator framework within OpenShift', metadata={'source': 'mistral/nvidia_ocp_414.pdf', 'page': 0}),\\n Document(page_content='Container Platform to manage the full lifecycle of NVIDIA software components\\\\nrequired to run GPU-accelerated workloads.\\\\nThese components include the NVIDIA drivers (to enable CUDA), the Kubernetes\\\\ndevice plugin for GPUs, the NVIDIA Container Toolkit, automatic node tagging using\\\\nGPU feature discovery (GFD), DCGM-based monitoring, and others.10/06/2024, 09:45 NVIDIA GPU architecture overview | Architecture | OpenShift Container Platform 4.14', metadata={'source': 'mistral/nvidia_ocp_414.pdf', 'page': 0}),\\n Document(page_content='https://docs.openshift.com/container-platform/4.14/architecture/nvidia-gpu-architecture-overview.html 1/11', metadata={'source': 'mistral/nvidia_ocp_414.pdf', 'page': 0}),\\n Document(page_content='\\\\uf05aThe NVIDIA GPU Operator is only supported by NVIDIA. For more\\\\ninformation about obtaining support from NVIDIA, see Obtaining\\\\nSupport from NVIDIA.\\\\nNVIDIA GPU prerequisites\\\\nA working OpenShift cluster with at least one GPU worker node.\\\\nAccess to the OpenShift cluster as a cluster-admin to perform the required\\\\nsteps.\\\\nOpenShift CLI (oc) is installed.\\\\nThe node feature discovery (NFD) Operator is installed and a\\\\nnodefeaturediscovery instance is created.\\\\nNVIDIA GPU enablement', metadata={'source': 'mistral/nvidia_ocp_414.pdf', 'page': 1}),\\n Document(page_content='NVIDIA GPU enablement\\\\nThe following diagram shows how the GPU architecture is enabled for OpenShift:\\\\nFigure 1. NVIDIA GPU enablement\\\\n\\\\uf05aMIG is only supported with A30, A100, A100X, A800, AX800, H100,\\\\nand H800.10/06/2024, 09:45 NVIDIA GPU architecture overview | Architecture | OpenShift Container Platform 4.14\\\\nhttps://docs.openshift.com/container-platform/4.14/architecture/nvidia-gpu-architecture-overview.html 2/11', metadata={'source': 'mistral/nvidia_ocp_414.pdf', 'page': 1}),\\n Document(page_content='GPUs and bare metal\\\\nYou can deploy OpenShift Container Platform on an NVIDIA-certified bare metal\\\\nserver but with some limitations:\\\\nControl plane nodes can be CPU nodes.\\\\nWorker nodes must be GPU nodes, provided that AI/ML workloads are\\\\nexecuted on these worker nodes.\\\\nIn addition, the worker nodes can host one or more GPUs, but they must be of\\\\nthe same type. For example, a node can have two NVIDIA A100 GPUs, but a\\\\nnode with one A100 GPU and one T4 GPU is not supported. The NVIDIA', metadata={'source': 'mistral/nvidia_ocp_414.pdf', 'page': 2}),\", metadata={'source': 'mistral/nvidia_ocp_docs.txt'}),\n",
              " Document(page_content=\"Document(page_content='Device Plugin for Kubernetes does not support mixing different GPU models\\\\non the same node.\\\\nWhen using OpenShift, note that one or three or more servers are required.\\\\nClusters with two servers are not supported. The single server deployment is\\\\ncalled single node openShift (SNO) and using this configuration results in a\\\\nnon-high availability OpenShift environment.\\\\nYou can choose one of the following methods to access the containerized GPUs:\\\\nGPU passthrough\\\\nMulti-Instance GPU (MIG)', metadata={'source': 'mistral/nvidia_ocp_414.pdf', 'page': 2}),\\n Document(page_content='GPU passthrough\\\\nMulti-Instance GPU (MIG)\\\\nAdditional resources\\\\nRed Hat OpenShift on Bare Metal Stack\\\\nGPUs and virtualization\\\\nMany developers and enterprises are moving to containerized applications and\\\\nserverless infrastructures, but there is still a lot of interest in developing and\\\\nmaintaining applications that run on virtual machines (VMs). Red Hat OpenShift\\\\nVirtualization provides this capability, enabling enterprises to incorporate VMs into\\\\ncontainerized workflows within clusters.', metadata={'source': 'mistral/nvidia_ocp_414.pdf', 'page': 2}),\\n Document(page_content='containerized workflows within clusters.\\\\nYou can choose one of the following methods to connect the worker nodes to the\\\\nGPUs:10/06/2024, 09:45 NVIDIA GPU architecture overview | Architecture | OpenShift Container Platform 4.14\\\\nhttps://docs.openshift.com/container-platform/4.14/architecture/nvidia-gpu-architecture-overview.html 3/11', metadata={'source': 'mistral/nvidia_ocp_414.pdf', 'page': 2}),\\n Document(page_content='GPU passthrough to access and use GPU hardware within a virtual machine\\\\n(VM).\\\\nGPU (vGPU) time-slicing, when GPU compute capacity is not saturated by\\\\nworkloads.\\\\nAdditional resources\\\\nNVIDIA GPU Operator with OpenShift Virtualization\\\\nGPUs and vSphere\\\\nYou can deploy OpenShift Container Platform on an NVIDIA-certified VMware\\\\nvSphere server that can host different GPU types.\\\\nAn NVIDIA GPU driver must be installed in the hypervisor in case vGPU instances', metadata={'source': 'mistral/nvidia_ocp_414.pdf', 'page': 3}),\\n Document(page_content='are used by the VMs. For VMware vSphere, this host driver is provided in the form of\\\\na VIB file.\\\\nThe maximum number of vGPUS that can be allocated to worker node VMs\\\\ndepends on the version of vSphere:\\\\nvSphere 7.0: maximum 4 vGPU per VM\\\\nvSphere 8.0: maximum 8 vGPU per VM\\\\n\\\\uf05avSphere 8.0 introduced support for multiple full or fractional\\\\nheterogenous profiles associated with a VM.\\\\nYou can choose one of the following methods to attach the worker nodes to the\\\\nGPUs:', metadata={'source': 'mistral/nvidia_ocp_414.pdf', 'page': 3}),\\n Document(page_content='GPUs:\\\\nGPU passthrough for accessing and using GPU hardware within a virtual\\\\nmachine (VM)\\\\nGPU (vGPU) time-slicing, when not all of the GPU is needed\\\\nSimilar to bare metal deployments, one or three or more servers are required.\\\\nClusters with two servers are not supported.\\\\nAdditional resources\\\\nOpenShift Container Platform on VMware vSphere with NVIDIA vGPUs10/06/2024, 09:45 NVIDIA GPU architecture overview | Architecture | OpenShift Container Platform 4.14', metadata={'source': 'mistral/nvidia_ocp_414.pdf', 'page': 3}),\\n Document(page_content='https://docs.openshift.com/container-platform/4.14/architecture/nvidia-gpu-architecture-overview.html 4/11', metadata={'source': 'mistral/nvidia_ocp_414.pdf', 'page': 3}),\", metadata={'source': 'mistral/nvidia_ocp_docs.txt'}),\n",
              " Document(page_content=\"Document(page_content='https://docs.openshift.com/container-platform/4.14/architecture/nvidia-gpu-architecture-overview.html 4/11', metadata={'source': 'mistral/nvidia_ocp_414.pdf', 'page': 3}),\\n Document(page_content='GPUs and Red Hat KVM\\\\nYou can use OpenShift Container Platform on an NVIDIA-certified kernel-based\\\\nvirtual machine (KVM) server.\\\\nSimilar to bare-metal deployments, one or three or more servers are required.\\\\nClusters with two servers are not supported.\\\\nHowever, unlike bare-metal deployments, you can use different types of GPUs in\\\\nthe server. This is because you can assign these GPUs to different VMs that act as\\\\nKubernetes nodes. The only limitation is that a Kubernetes node must have the', metadata={'source': 'mistral/nvidia_ocp_414.pdf', 'page': 4}),\\n Document(page_content='same set of GPU types at its own level.\\\\nYou can choose one of the following methods to access the containerized GPUs:\\\\nGPU passthrough for accessing and using GPU hardware within a virtual\\\\nmachine (VM)\\\\nGPU (vGPU) time-slicing when not all of the GPU is needed\\\\nTo enable the vGPU capability, a special driver must be installed at the host level.\\\\nThis driver is delivered as a RPM package. This host driver is not required at all for\\\\nGPU passthrough allocation.\\\\nAdditional resources', metadata={'source': 'mistral/nvidia_ocp_414.pdf', 'page': 4}),\\n Document(page_content='GPU passthrough allocation.\\\\nAdditional resources\\\\nHow To Deploy OpenShift Container Platform 4.13 on KVM\\\\nGPUs and CSPs\\\\nYou can deploy OpenShift Container Platform to one of the major cloud service\\\\nproviders (CSPs): Amazon Web Services (AWS), Google Cloud Platform (GCP), or\\\\nMicrosoft Azure.\\\\nTwo modes of operation are available: a fully managed deployment and a self-\\\\nmanaged deployment.10/06/2024, 09:45 NVIDIA GPU architecture overview | Architecture | OpenShift Container Platform 4.14', metadata={'source': 'mistral/nvidia_ocp_414.pdf', 'page': 4}),\\n Document(page_content='https://docs.openshift.com/container-platform/4.14/architecture/nvidia-gpu-architecture-overview.html 5/11', metadata={'source': 'mistral/nvidia_ocp_414.pdf', 'page': 4}),\\n Document(page_content='In a fully managed deployment, everything is automated by Red Hat in\\\\ncollaboration with CSP. You can request an OpenShift instance through the\\\\nCSP web console, and the cluster is automatically created and fully managed\\\\nby Red Hat. You do not have to worry about node failures or errors in the\\\\nenvironment. Red Hat is fully responsible for maintaining the uptime of the\\\\ncluster. The fully managed services are available on AWS and Azure. For AWS,', metadata={'source': 'mistral/nvidia_ocp_414.pdf', 'page': 5}),\\n Document(page_content='the OpenShift service is called ROSA (Red Hat OpenShift Service on AWS).\\\\nFor Azure, the service is called Azure Red Hat OpenShift.\\\\nIn a self-managed deployment, you are responsible for instantiating and\\\\nmaintaining the OpenShift cluster. Red Hat provides the OpenShift-install\\\\nutility to support the deployment of the OpenShift cluster in this case. The\\\\nself-managed services are available globally to all CSPs.\\\\nIt is important that this compute instance is a GPU-accelerated compute instance', metadata={'source': 'mistral/nvidia_ocp_414.pdf', 'page': 5}),\\n Document(page_content='and that the GPU type matches the list of supported GPUs from NVIDIA AI\\\\nEnterprise. For example, T4, V100, and A100 are part of this list.\\\\nYou can choose one of the following methods to access the containerized GPUs:\\\\nGPU passthrough to access and use GPU hardware within a virtual machine\\\\n(VM).\\\\nGPU (vGPU) time slicing when the entire GPU is not required.\\\\nAdditional resources\\\\nRed Hat Openshift in the Cloud\\\\nGPUs and Red Hat Device Edge', metadata={'source': 'mistral/nvidia_ocp_414.pdf', 'page': 5}),\", metadata={'source': 'mistral/nvidia_ocp_docs.txt'}),\n",
              " Document(page_content=\"Document(page_content='GPUs and Red Hat Device Edge\\\\nRed Hat Device Edge provides access to MicroShift. MicroShift provides the\\\\nsimplicity of a single-node deployment with the functionality and services you need\\\\nfor resource-constrained (edge) computing. Red Hat Device Edge meets the needs\\\\nof bare-metal, virtual, containerized, or Kubernetes workloads deployed in resource-\\\\nconstrained environments.\\\\nYou can enable NVIDIA GPUs on containers in a Red Hat Device Edge environment.', metadata={'source': 'mistral/nvidia_ocp_414.pdf', 'page': 5}),\\n Document(page_content='You use GPU passthrough to access the containerized GPUs.\\\\nAdditional resources10/06/2024, 09:45 NVIDIA GPU architecture overview | Architecture | OpenShift Container Platform 4.14\\\\nhttps://docs.openshift.com/container-platform/4.14/architecture/nvidia-gpu-architecture-overview.html 6/11', metadata={'source': 'mistral/nvidia_ocp_414.pdf', 'page': 5}),\\n Document(page_content='How to accelerate workloads with NVIDIA GPUs on Red Hat Device Edge\\\\nGPU sharing methods\\\\nRed\\\\xa0Hat and NVIDIA have developed GPU concurrency and sharing mechanisms to\\\\nsimplify GPU-accelerated computing on an enterprise-level OpenShift Container\\\\nPlatform cluster.\\\\nApplications typically have different compute requirements that can leave GPUs\\\\nunderutilized. Providing the right amount of compute resources for each workload is\\\\ncritical to reduce deployment cost and maximize GPU utilization.', metadata={'source': 'mistral/nvidia_ocp_414.pdf', 'page': 6}),\\n Document(page_content='Concurrency mechanisms for improving GPU utilization exist that range from\\\\nprogramming model APIs to system software and hardware partitioning, including\\\\nvirtualization. The following list shows the GPU concurrency mechanisms:\\\\nCompute Unified Device Architecture (CUDA) streams\\\\nTime-slicing\\\\nCUDA Multi-Process Service (MPS)\\\\nMulti-instance GPU (MIG)\\\\nVirtualization with vGPU\\\\nConsider the following GPU sharing suggestions when using the GPU concurrency', metadata={'source': 'mistral/nvidia_ocp_414.pdf', 'page': 6}),\\n Document(page_content='mechanisms for different OpenShift Container Platform scenarios:\\\\nBare metal\\\\nvGPU is not available. Consider using MIG-enabled cards.\\\\nVMs\\\\nvGPU is the best choice.\\\\nOlder NVIDIA cards with no MIG on bare metal\\\\nConsider using time-slicing.\\\\nVMs with multiple GPUs and you want passthrough and vGPU\\\\nConsider using separate VMs.\\\\nBare metal with OpenShift Virtualization and multiple GPUs', metadata={'source': 'mistral/nvidia_ocp_414.pdf', 'page': 6}),\\n Document(page_content='Consider using pass-through for hosted VMs and time-slicing for containers.10/06/2024, 09:45 NVIDIA GPU architecture overview | Architecture | OpenShift Container Platform 4.14\\\\nhttps://docs.openshift.com/container-platform/4.14/architecture/nvidia-gpu-architecture-overview.html 7/11', metadata={'source': 'mistral/nvidia_ocp_414.pdf', 'page': 6}),\\n Document(page_content='Additional resources\\\\nImproving GPU Utilization\\\\nCUDA streams\\\\nCompute Unified Device Architecture (CUDA) is a parallel computing platform and\\\\nprogramming model developed by NVIDIA for general computing on GPUs.\\\\nA stream is a sequence of operations that executes in issue-order on the GPU.\\\\nCUDA commands are typically executed sequentially in a default stream and a task\\\\ndoes not start until a preceding task has completed.', metadata={'source': 'mistral/nvidia_ocp_414.pdf', 'page': 7}),\\n Document(page_content='Asynchronous processing of operations across different streams allows for parallel\\\\nexecution of tasks. A task issued in one stream runs before, during, or after another\\\\ntask is issued into another stream. This allows the GPU to run multiple tasks\\\\nsimultaneously in no prescribed order, leading to improved performance.\\\\nAdditional resources\\\\nAsynchronous Concurrent Execution\\\\nTime-slicing\\\\nGPU time-slicing interleaves workloads scheduled on overloaded GPUs when you', metadata={'source': 'mistral/nvidia_ocp_414.pdf', 'page': 7}),\", metadata={'source': 'mistral/nvidia_ocp_docs.txt'}),\n",
              " Document(page_content=\"Document(page_content='are running multiple CUDA applications.\\\\nYou can enable time-slicing of GPUs on Kubernetes by defining a set of replicas for\\\\na GPU, each of which can be independently distributed to a pod to run workloads\\\\non. Unlike multi-instance GPU (MIG), there is no memory or fault isolation between\\\\nreplicas, but for some workloads this is better than not sharing at all. Internally, GPU\\\\ntime-slicing is used to multiplex workloads from replicas of the same underlying\\\\nGPU.', metadata={'source': 'mistral/nvidia_ocp_414.pdf', 'page': 7}),\\n Document(page_content='GPU.\\\\nYou can apply a cluster-wide default configuration for time-slicing. You can also\\\\napply node-specific configurations. For example, you can apply a time-slicing\\\\nconfiguration only to nodes with Tesla T4 GPUs and not modify nodes with other\\\\nGPU models.10/06/2024, 09:45 NVIDIA GPU architecture overview | Architecture | OpenShift Container Platform 4.14\\\\nhttps://docs.openshift.com/container-platform/4.14/architecture/nvidia-gpu-architecture-overview.html 8/11', metadata={'source': 'mistral/nvidia_ocp_414.pdf', 'page': 7}),\\n Document(page_content='You can combine these two approaches by applying a cluster-wide default\\\\nconfiguration and then labeling nodes to give those nodes a node-specific\\\\nconfiguration.\\\\nCUDA Multi-Process Service\\\\nCUDA Multi-Process Service (MPS) allows a single GPU to use multiple CUDA\\\\nprocesses. The processes run in parallel on the GPU, eliminating saturation of the\\\\nGPU compute resources. MPS also enables concurrent execution, or overlapping, of\\\\nkernel operations and memory copying from different processes to enhance', metadata={'source': 'mistral/nvidia_ocp_414.pdf', 'page': 8}),\\n Document(page_content='utilization.\\\\nAdditional resources\\\\nCUDA MPS\\\\nMulti-instance GPU\\\\nUsing Multi-instance GPU (MIG), you can split GPU compute units and memory into\\\\nmultiple MIG instances. Each of these instances represents a standalone GPU\\\\ndevice from a system perspective and can be connected to any application,\\\\ncontainer, or virtual machine running on the node. The software that uses the GPU\\\\ntreats each of these MIG instances as an individual GPU.', metadata={'source': 'mistral/nvidia_ocp_414.pdf', 'page': 8}),\\n Document(page_content='MIG is useful when you have an application that does not require the full power of an\\\\nentire GPU. The MIG feature of the new NVIDIA Ampere architecture enables you to\\\\nsplit your hardware resources into multiple GPU instances, each of which is available\\\\nto the operating system as an independent CUDA-enabled GPU.\\\\nNVIDIA GPU Operator version 1.7.0 and higher provides MIG support for the A100\\\\nand A30 Ampere cards. These GPU instances are designed to support up to seven', metadata={'source': 'mistral/nvidia_ocp_414.pdf', 'page': 8}),\\n Document(page_content='multiple independent CUDA applications so that they operate completely isolated\\\\nwith dedicated hardware resources.\\\\nAdditional resources\\\\nNVIDIA Multi-Instance GPU User Guide10/06/2024, 09:45 NVIDIA GPU architecture overview | Architecture | OpenShift Container Platform 4.14\\\\nhttps://docs.openshift.com/container-platform/4.14/architecture/nvidia-gpu-architecture-overview.html 9/11', metadata={'source': 'mistral/nvidia_ocp_414.pdf', 'page': 8}),\\n Document(page_content='Virtualization with vGPU\\\\nVirtual machines (VMs) can directly access a single physical GPU using NVIDIA\\\\nvGPU. You can create virtual GPUs that can be shared by VMs across the enterprise\\\\nand accessed by other devices.\\\\nThis capability combines the power of GPU performance with the management and\\\\nsecurity benefits provided by vGPU. Additional benefits provided by vGPU includes\\\\nproactive management and monitoring for your VM environment, workload', metadata={'source': 'mistral/nvidia_ocp_414.pdf', 'page': 9}),\", metadata={'source': 'mistral/nvidia_ocp_docs.txt'}),\n",
              " Document(page_content=\"Document(page_content='balancing for mixed VDI and compute workloads, and resource sharing across\\\\nmultiple VMs.\\\\nAdditional resources\\\\nVirtual GPUs\\\\nNVIDIA GPU features for OpenShift Container Platform\\\\nNVIDIA Container Toolkit\\\\nNVIDIA Container Toolkit enables you to create and run GPU-accelerated\\\\ncontainers. The toolkit includes a container runtime library and utilities to\\\\nautomatically configure containers to use NVIDIA GPUs.\\\\nNVIDIA AI Enterprise', metadata={'source': 'mistral/nvidia_ocp_414.pdf', 'page': 9}),\\n Document(page_content='NVIDIA AI Enterprise\\\\nNVIDIA AI Enterprise is an end-to-end, cloud-native suite of AI and data analytics\\\\nsoftware optimized, certified, and supported with NVIDIA-Certified systems.\\\\nNVIDIA AI Enterprise includes support for Red Hat OpenShift Container Platform.\\\\nThe following installation methods are supported:\\\\nOpenShift Container Platform on bare metal or VMware vSphere with GPU\\\\nPassthrough.\\\\nOpenShift Container Platform on VMware vSphere with NVIDIA vGPU.\\\\nGPU Feature Discovery', metadata={'source': 'mistral/nvidia_ocp_414.pdf', 'page': 9}),\\n Document(page_content='GPU Feature Discovery\\\\nNVIDIA GPU Feature Discovery for Kubernetes is a software component that\\\\nenables you to automatically generate labels for the GPUs available on a node. GPU\\\\nFeature Discovery uses node feature discovery (NFD) to perform this labeling.10/06/2024, 09:45 NVIDIA GPU architecture overview | Architecture | OpenShift Container Platform 4.14\\\\nhttps://docs.openshift.com/container-platform/4.14/architecture/nvidia-gpu-architecture-overview.html 10/11', metadata={'source': 'mistral/nvidia_ocp_414.pdf', 'page': 9}),\\n Document(page_content='The Node Feature Discovery Operator (NFD) manages the discovery of hardware\\\\nfeatures and configurations in an OpenShift Container Platform cluster by labeling\\\\nnodes with hardware-specific information. NFD labels the host with node-specific\\\\nattributes, such as PCI cards, kernel, OS version, and so on.\\\\nYou can find the NFD Operator in the Operator Hub by searching for “Node Feature\\\\nDiscovery”.\\\\nNVIDIA GPU Operator with OpenShift Virtualization', metadata={'source': 'mistral/nvidia_ocp_414.pdf', 'page': 10}),\\n Document(page_content='NVIDIA GPU Operator with OpenShift Virtualization\\\\nUp until this point, the GPU Operator only provisioned worker nodes to run GPU-\\\\naccelerated containers. Now, the GPU Operator can also be used to provision\\\\nworker nodes for running GPU-accelerated virtual machines (VMs).\\\\nYou can configure the GPU Operator to deploy different software components to\\\\nworker nodes depending on which GPU workload is configured to run on those\\\\nnodes.\\\\nGPU Monitoring dashboard', metadata={'source': 'mistral/nvidia_ocp_414.pdf', 'page': 10}),\\n Document(page_content='nodes.\\\\nGPU Monitoring dashboard\\\\nYou can install a monitoring dashboard to display GPU usage information on the\\\\ncluster Observe page in the OpenShift Container Platform web console. GPU\\\\nutilization information includes the number of available GPUs, power consumption\\\\n(in watts), temperature (in degrees Celsius), utilization (in percent), and other\\\\nmetrics for each GPU.\\\\nAdditional resources\\\\nNVIDIA-Certified Systems\\\\nNVIDIA AI Enterprise\\\\nNVIDIA Container Toolkit\\\\nEnabling the GPU Monitoring Dashboard', metadata={'source': 'mistral/nvidia_ocp_414.pdf', 'page': 10}),\\n Document(page_content='Enabling the GPU Monitoring Dashboard\\\\nMIG Support in OpenShift Container Platform\\\\nTime-slicing NVIDIA GPUs in OpenShift\\\\nDeploy GPU Operators in a disconnected or airgapped environment\\\\nNode Feature Discovery Operator\\\\nCopyright © 2024 Red Hat, Inc.10/06/2024, 09:45 NVIDIA GPU architecture overview | Architecture | OpenShift Container Platform 4.14\\\\nhttps://docs.openshift.com/container-platform/4.14/architecture/nvidia-gpu-architecture-overview.html 11/11', metadata={'source': 'mistral/nvidia_ocp_414.pdf', 'page': 10})]\", metadata={'source': 'mistral/nvidia_ocp_docs.txt'})]"
            ]
          },
          "metadata": {},
          "execution_count": 7
        }
      ]
    },
    {
      "cell_type": "code",
      "source": [
        "# Define the embedding model\n",
        "embeddings = MistralAIEmbeddings(model=\"mistral-embed\", mistral_api_key=\"your_secret_key\")"
      ],
      "metadata": {
        "colab": {
          "base_uri": "https://localhost:8080/"
        },
        "id": "T5qnK9OSf8ua",
        "outputId": "fb39c2de-3773-43fc-b62b-3f86d306b7f2"
      },
      "execution_count": null,
      "outputs": [
        {
          "output_type": "stream",
          "name": "stderr",
          "text": [
            "/usr/local/lib/python3.10/dist-packages/huggingface_hub/utils/_token.py:89: UserWarning: \n",
            "The secret `HF_TOKEN` does not exist in your Colab secrets.\n",
            "To authenticate with the Hugging Face Hub, create a token in your settings tab (https://huggingface.co/settings/tokens), set it as secret in your Google Colab and restart your session.\n",
            "You will be able to reuse this secret in all of your notebooks.\n",
            "Please note that authentication is recommended but still optional to access public models or datasets.\n",
            "  warnings.warn(\n",
            "/usr/local/lib/python3.10/dist-packages/langchain_mistralai/embeddings.py:105: UserWarning: Could not download mistral tokenizer from Huggingface for calculating batch sizes. Set a Huggingface token via the HF_TOKEN environment variable to download the real tokenizer. Falling back to a dummy tokenizer that uses `len()`.\n",
            "  warnings.warn(\n"
          ]
        }
      ]
    },
    {
      "cell_type": "code",
      "source": [
        "# Create the vector store\n",
        "vector = Chroma.from_documents(documents, embeddings)"
      ],
      "metadata": {
        "id": "NdzKI7jkgJzg"
      },
      "execution_count": null,
      "outputs": []
    },
    {
      "cell_type": "code",
      "source": [
        "# Define a retriever interface\n",
        "retriever = vector.as_retriever()"
      ],
      "metadata": {
        "id": "hmKj0PsEmCMI"
      },
      "execution_count": null,
      "outputs": []
    },
    {
      "cell_type": "code",
      "source": [
        "# Define LLM\n",
        "model = ChatMistralAI(mistral_api_key=\"your_private_key\")"
      ],
      "metadata": {
        "id": "aMdsVfKMmOhr"
      },
      "execution_count": null,
      "outputs": []
    },
    {
      "cell_type": "code",
      "source": [
        "\n",
        "# Define prompt template\n",
        "prompt = ChatPromptTemplate.from_template(\"\"\"Answer the following question based only on the provided context:\n",
        "\n",
        "<context>\n",
        "{context}\n",
        "</context>\n",
        "\n",
        "Question: {input}\"\"\")\n",
        "\n",
        "# Create a retrieval chain to answer questions\n",
        "document_chain = create_stuff_documents_chain(model, prompt)\n",
        "retrieval_chain = create_retrieval_chain(retriever, document_chain)\n",
        "response = retrieval_chain.invoke({\"input\": \"What is MIG\"})\n",
        "print(response[\"answer\"])"
      ],
      "metadata": {
        "id": "CkEelevG7eJj",
        "colab": {
          "base_uri": "https://localhost:8080/"
        },
        "outputId": "39c03b15-9cbb-4559-a8b6-5ef904b625d7"
      },
      "execution_count": null,
      "outputs": [
        {
          "output_type": "stream",
          "name": "stdout",
          "text": [
            "MIG stands for Multi-Instance GPU, which is a feature of the new NVIDIA Ampere architecture. It enables splitting GPU compute units and memory into multiple MIG instances, each of which represents a standalone GPU device from a system perspective and can be connected to any application, container, or virtual machine running on the node. The software that uses the GPU treats each of these MIG instances as an individual GPU. This feature is useful when you have an application that does not require the full power of an entire GPU. The NVIDIA GPU Operator version 1.7.0 and higher provides MIG support for the A100 and A30 Ampere cards.\n"
          ]
        }
      ]
    },
    {
      "cell_type": "code",
      "source": [
        "# Create a retrieval chain to answer questions\n",
        "document_chain = create_stuff_documents_chain(model, prompt)\n",
        "retrieval_chain = create_retrieval_chain(retriever, document_chain)\n",
        "response = retrieval_chain.invoke({\"input\": \"What Nvidia GPU models are supported by MIG in OpenShift 4.14?\"})\n",
        "print(response[\"answer\"])"
      ],
      "metadata": {
        "colab": {
          "base_uri": "https://localhost:8080/"
        },
        "id": "au7hOL428PFy",
        "outputId": "d4cc86ad-c626-49c3-efa1-5ee696655979"
      },
      "execution_count": null,
      "outputs": [
        {
          "output_type": "stream",
          "name": "stdout",
          "text": [
            "The NVIDIA GPU models that are supported by MIG (Multi-Instance GPU) in OpenShift 4.14 are A30, A100, A100X, A800, AX800, H100, and H800.\n"
          ]
        }
      ]
    }
  ]
}